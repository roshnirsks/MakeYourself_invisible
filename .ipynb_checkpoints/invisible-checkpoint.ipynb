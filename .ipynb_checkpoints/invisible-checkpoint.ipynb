{
 "cells": [
  {
   "cell_type": "code",
   "execution_count": 16,
   "metadata": {},
   "outputs": [],
   "source": [
    "import cv2\n",
    "import numpy as np\n",
    "\n"
   ]
  },
  {
   "cell_type": "code",
   "execution_count": null,
   "metadata": {},
   "outputs": [],
   "source": [
    "cap = cv2.VideoCapture(0)\n",
    "back = cv2.imread('./20200813_221234.jpg')\n",
    "\n",
    "while cap.isOpened():\n",
    "    ret, frame = cap.read()\n",
    "\n",
    "    if ret:\n",
    "        hsv = cv2.cvtColor(frame, cv2.COLOR_BGR2HSV)\n",
    "        l_red = np.array([0, 100, 100])\n",
    "        u_red = np.array([10, 255, 255])\n",
    "\n",
    "        mask = cv2.inRange(hsv, l_red, u_red)\n",
    "        kernel = np.ones((5, 5), np.uint8)\n",
    "\n",
    "        mask = cv2.morphologyEx(mask, cv2.MORPH_OPEN, kernel)\n",
    "        mask = cv2.morphologyEx(mask, cv2.MORPH_DILATE, kernel)\n",
    "\n",
    "        mask2 = cv2.bitwise_not(mask)\n",
    "\n",
    "        part1 = cv2.bitwise_and(back, back, mask=mask)\n",
    "        part2 = cv2.bitwise_and(frame, frame, mask=mask2)\n",
    "\n",
    "        cv2.imshow(\"window\", part1+part2)\n",
    "\n",
    "        if cv2.waitKey(5) == ord('q'):\n",
    "             break\n",
    "\n",
    "cap.release()\n",
    "cv2.destroyAllWindows()"
   ]
  },
  {
   "cell_type": "code",
   "execution_count": null,
   "metadata": {},
   "outputs": [],
   "source": []
  },
  {
   "cell_type": "code",
   "execution_count": null,
   "metadata": {},
   "outputs": [],
   "source": []
  }
 ],
 "metadata": {
  "kernelspec": {
   "display_name": "Python 3",
   "language": "python",
   "name": "python3"
  },
  "language_info": {
   "codemirror_mode": {
    "name": "ipython",
    "version": 3
   },
   "file_extension": ".py",
   "mimetype": "text/x-python",
   "name": "python",
   "nbconvert_exporter": "python",
   "pygments_lexer": "ipython3",
   "version": "3.6.5"
  }
 },
 "nbformat": 4,
 "nbformat_minor": 2
}
